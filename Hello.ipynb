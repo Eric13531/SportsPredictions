{
 "cells": [
  {
   "cell_type": "code",
   "execution_count": 21,
   "id": "f5e81837-843b-4a0c-890f-9d290e14d4f9",
   "metadata": {
    "tags": []
   },
   "outputs": [
    {
     "name": "stdout",
     "output_type": "stream",
     "text": [
      "Monkey\n"
     ]
    }
   ],
   "source": [
    "print(\"Monkey\")"
   ]
  },
  {
   "cell_type": "code",
   "execution_count": 23,
   "id": "b739d665-24b7-4605-8fa7-2e7ecd92e77d",
   "metadata": {
    "tags": []
   },
   "outputs": [],
   "source": [
    "a = 10"
   ]
  },
  {
   "cell_type": "code",
   "execution_count": 24,
   "id": "4367a190-c7d7-468b-b5bf-e6d709fcdc79",
   "metadata": {
    "tags": []
   },
   "outputs": [],
   "source": [
    "b = 20"
   ]
  },
  {
   "cell_type": "code",
   "execution_count": 25,
   "id": "fdb86daf-8ed2-42f9-8905-f567b14dab39",
   "metadata": {
    "tags": []
   },
   "outputs": [],
   "source": [
    "c = a + b"
   ]
  },
  {
   "cell_type": "code",
   "execution_count": 26,
   "id": "df5c9736-6468-462a-99d5-b8a4fc708494",
   "metadata": {
    "tags": []
   },
   "outputs": [
    {
     "name": "stdout",
     "output_type": "stream",
     "text": [
      "30 monkeys\n"
     ]
    }
   ],
   "source": [
    "print (f\"{c} monkeys\")"
   ]
  },
  {
   "cell_type": "code",
   "execution_count": 15,
   "id": "a02a5e77-11fc-4513-a65c-53b835cc298b",
   "metadata": {
    "tags": []
   },
   "outputs": [
    {
     "name": "stdout",
     "output_type": "stream",
     "text": [
      "Hello World\n"
     ]
    }
   ],
   "source": [
    "print(\"Hello World\")"
   ]
  }
 ],
 "metadata": {
  "kernelspec": {
   "display_name": "Python 3 (ipykernel)",
   "language": "python",
   "name": "python3"
  },
  "language_info": {
   "codemirror_mode": {
    "name": "ipython",
    "version": 3
   },
   "file_extension": ".py",
   "mimetype": "text/x-python",
   "name": "python",
   "nbconvert_exporter": "python",
   "pygments_lexer": "ipython3",
   "version": "3.11.5"
  }
 },
 "nbformat": 4,
 "nbformat_minor": 5
}
