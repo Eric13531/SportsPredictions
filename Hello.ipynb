{
 "cells": [
  {
   "cell_type": "code",
   "execution_count": 4,
   "id": "f0b01efc-721e-42e9-8e90-2825a5a09e4c",
   "metadata": {},
   "outputs": [
    {
     "name": "stdout",
     "output_type": "stream",
     "text": [
      "done\n"
     ]
    }
   ],
   "source": [
    "import pandas as pd\n",
    "from urllib.parse import quote\n",
    "\n",
    "players_list = \"https://raw.githubusercontent.com/vaastav/Fantasy-Premier-League/master/data/2023-24/player_idlist.csv\"\n",
    "players_csv = pd.read_csv(players_list)\n",
    "\n",
    "for index, row in players_csv.iterrows():\n",
    "    first_name = quote(row[0])\n",
    "    second_name = quote(row[1])\n",
    "    id = row[2]\n",
    "    player_link = f\"https://raw.githubusercontent.com/vaastav/Fantasy-Premier-League/master/data/2023-24/players/{first_name}_{second_name}_{id}/gw.csv\"\n",
    "    player_data = pd.read_csv(player_link)\n",
    "\n",
    "print(\"done\")"
   ]
  },
  {
   "cell_type": "code",
   "execution_count": null,
   "id": "173364f4-ef9d-46dc-af55-952a46132999",
   "metadata": {},
   "outputs": [],
   "source": []
  }
 ],
 "metadata": {
  "kernelspec": {
   "display_name": "Python 3 (ipykernel)",
   "language": "python",
   "name": "python3"
  },
  "language_info": {
   "codemirror_mode": {
    "name": "ipython",
    "version": 3
   },
   "file_extension": ".py",
   "mimetype": "text/x-python",
   "name": "python",
   "nbconvert_exporter": "python",
   "pygments_lexer": "ipython3",
   "version": "3.9.12"
  }
 },
 "nbformat": 4,
 "nbformat_minor": 5
}
