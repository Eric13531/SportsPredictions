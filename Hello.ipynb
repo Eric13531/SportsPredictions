{
 "cells": [
  {
   "cell_type": "code",
   "execution_count": 2,
   "id": "f0b01efc-721e-42e9-8e90-2825a5a09e4c",
   "metadata": {},
   "outputs": [
    {
     "name": "stdout",
     "output_type": "stream",
     "text": [
      "773\n",
      "Failed to fetch data. Status code: 404\n",
      "a total of 185 dataframes created\n"
     ]
    }
   ],
   "source": [
    "import pandas as pd\n",
    "import requests\n",
    "\n",
    "number_of_players = 0\n",
    "\n",
    "for i in range(1, 39):\n",
    "    gameweek = requests.get(f\"https://fantasy.premierleague.com/api/event/{i}/live/\")\n",
    "    number_of_players = max(number_of_players, len(gameweek.json()['elements']))\n",
    "\n",
    "print(number_of_players)\n",
    "\n",
    "total = 0\n",
    "\n",
    "for i in range(1, number_of_players + 1):\n",
    "    api_url = f\"https://fantasy.premierleague.com/api/element-summary/{i}/\"\n",
    "    \n",
    "    response = requests.get(api_url)\n",
    "    \n",
    "    if response.status_code == 200:\n",
    "        data = response.json()\n",
    "\n",
    "        avg_selected = 0\n",
    "        total_non_zero = 0\n",
    "\n",
    "        for game in data['history']:\n",
    "            if game['selected'] > 0:\n",
    "                avg_selected += game['selected']\n",
    "                total_non_zero += 1\n",
    "\n",
    "        if total_non_zero == 0 or avg_selected / total_non_zero < 100000:\n",
    "            continue\n",
    "\n",
    "        total += 1\n",
    "\n",
    "        df = pd.DataFrame()\n",
    "    \n",
    "        for game in data['history']:\n",
    "            del game['element']\n",
    "            del game['fixture']\n",
    "            df = pd.concat([df, pd.DataFrame([game])], ignore_index=True)\n",
    "    \n",
    "    else:\n",
    "        print(f\"Failed to fetch data. Status code: {response.status_code}\")\n",
    "\n",
    "print(f\"a total of {total} dataframes created\")"
   ]
  },
  {
   "cell_type": "code",
   "execution_count": null,
   "id": "069259ec-0557-41f4-aa62-e56a71f8d4e1",
   "metadata": {},
   "outputs": [],
   "source": []
  }
 ],
 "metadata": {
  "kernelspec": {
   "display_name": "Python 3 (ipykernel)",
   "language": "python",
   "name": "python3"
  },
  "language_info": {
   "codemirror_mode": {
    "name": "ipython",
    "version": 3
   },
   "file_extension": ".py",
   "mimetype": "text/x-python",
   "name": "python",
   "nbconvert_exporter": "python",
   "pygments_lexer": "ipython3",
   "version": "3.9.12"
  }
 },
 "nbformat": 4,
 "nbformat_minor": 5
}
